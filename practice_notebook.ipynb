{
 "cells": [
  {
   "cell_type": "code",
   "execution_count": 36,
   "metadata": {},
   "outputs": [],
   "source": []
  },
  {
   "cell_type": "code",
   "execution_count": 62,
   "metadata": {},
   "outputs": [],
   "source": [
    "# Create dictionaries for storing volume ratios\n",
    "# and gradients for changes in volume ratios over time.\n",
    "ratio_dict = {}\n",
    "gradient_dict = {}\n",
    "\n",
    "# Extract information on volume ratios and their time dependence\n",
    "# (gradient from linear regression) for each organ of each patient.\n",
    "groupby_id = df.groupby(['id'])\n",
    "for id, df_id in groupby_id:\n",
    "   groupby_organ = df_id.groupby(['organ'])\n",
    "   for organ, df_organ in groupby_organ:\n",
    "       df_organ_mv = df_organ[df_organ['mv dose'].notna()]\n",
    "       df_organ_kv = df_organ[df_organ['planned clinical ct dose'].notna()]\n",
    "\n",
    "       n_val = df_organ_mv['model volume'].count()\n",
    "       if n_val == 30:\n",
    "           # The value for \"planning scan volume\" is the structure volume within the scan.\n",
    "           # The kV scan always contains all of the structure.\n",
    "           # The MV scan may be missing a part of the structure.\n",
    "           v0 = list(df_organ_kv['planning scan volume'])[0]\n",
    "           r = df_organ_mv['planning scan volume'] / v0\n",
    "           if not organ in ratio_dict:\n",
    "               ratio_dict[organ] = []\n",
    "           ratio_dict[organ].extend(r.to_list())\n",
    "\n",
    "           # Fit a straight line to the volume ratio as a function of fraction number.\n",
    "           # (Rows in the dataframe are ordered by time.)\n",
    "           x = range(1, n_val + 1)\n",
    "           y = df_organ_mv['model volume'] / df_organ_mv['planning scan volume']\n",
    "           p = np.polyfit(x, y, deg=1)\n",
    "           if not organ in gradient_dict:\n",
    "               gradient_dict[organ] = []\n",
    "           gradient_dict[organ].append(p[0])"
   ]
  },
  {
   "cell_type": "code",
   "execution_count": 97,
   "metadata": {},
   "outputs": [
    {
     "data": {
      "text/plain": [
       "5160"
      ]
     },
     "execution_count": 97,
     "metadata": {},
     "output_type": "execute_result"
    }
   ],
   "source": [
    "len(ratio_dict['left parotid'])"
   ]
  },
  {
   "cell_type": "code",
   "execution_count": 153,
   "metadata": {},
   "outputs": [],
   "source": [
    "import pandas as pd\n",
    "\n",
    "# Load DataFrame\n",
    "df = pd.read_csv(\"structure_time_dependent.csv\")\n",
    "\n",
    "# Split DataFrame into kV and MV \n",
    "df_kv = df[df['planned clinical ct dose'].notna()].set_index(['id', 'organ']).copy()\n",
    "df_mv = df[df['mv dose'].notna()].copy()\n",
    "\n",
    "# Filter out patient/organ combos with exactly 30 entries\n",
    "df_mv = df_mv.groupby(['id', 'organ']).filter(lambda x: x['model volume'].count() == 30)\n",
    "\n",
    "# Compute volume ratio for each MV entry\n",
    "def get_volume_ratio(row):\n",
    "    v0 = df_kv.loc[(row['id'], row['organ']), 'planning scan volume']\n",
    "    return row['planning scan volume'] / v0\n",
    "df_mv['volume ratio'] = df_mv.apply(get_volume_ratio, axis=1)\n",
    "\n",
    "# Make DataFrame of gradients for each patient and organ\n",
    "def get_gradient(group):\n",
    "    p = np.polyfit(range(1, len(group) + 1), group['model volume'] / group['planning scan volume'], deg=1)\n",
    "    return p[0]\n",
    "df_gradients = df_mv.groupby(['id', 'organ']).apply(get_gradient).reset_index().rename(columns={0: 'gradient'})"
   ]
  },
  {
   "cell_type": "code",
   "execution_count": null,
   "metadata": {},
   "outputs": [],
   "source": []
  }
 ],
 "metadata": {
  "kernelspec": {
   "display_name": "Python 3",
   "language": "python",
   "name": "python3"
  },
  "language_info": {
   "codemirror_mode": {
    "name": "ipython",
    "version": 3
   },
   "file_extension": ".py",
   "mimetype": "text/x-python",
   "name": "python",
   "nbconvert_exporter": "python",
   "pygments_lexer": "ipython3",
   "version": "3.8.5"
  }
 },
 "nbformat": 4,
 "nbformat_minor": 4
}
